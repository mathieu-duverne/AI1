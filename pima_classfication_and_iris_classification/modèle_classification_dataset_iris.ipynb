{
 "cells": [
  {
   "cell_type": "markdown",
   "id": "optional-pursuit",
   "metadata": {},
   "source": [
    "# Librairies utilisée Scikit-learn \n",
    "\n",
    "C'est une librairie dédié au machine learning proposant un grands nombre de modéles de ML et DP\n",
    "\n",
    "https://scikit-learn.org/\n",
    "\n",
    "## Modéle utilisée : \n",
    "\n",
    "    - 1 : SVM  C-Support Vector Classification\n",
    "    - 2 : Random forest classifier\n",
    "    - 3 : Kneighbors classifier"
   ]
  },
  {
   "cell_type": "markdown",
   "id": "orange-reduction",
   "metadata": {},
   "source": [
    "## C-Support Vector Classificiation\n",
    "\n",
    "Définition : C'est un algorithmes qui trace une frontière qui sépare au mieux les classes \n",
    "\n",
    "Utilisation : Prend en entrée un nombre prositif de régularisation et un algortihme de calcule linaire"
   ]
  },
  {
   "cell_type": "code",
   "execution_count": 20,
   "id": "deluxe-trinity",
   "metadata": {},
   "outputs": [],
   "source": [
    "from sklearn import svm, datasets"
   ]
  },
  {
   "cell_type": "markdown",
   "id": "tested-caribbean",
   "metadata": {},
   "source": [
    "## Random Forest Classifier\n",
    "\n",
    "Définition : C'est un algorithmes qui utilise plusieurs arbres de décisions et un ensemble learning\n",
    "\n",
    "Utilisation : Prend en entrée un nombre d'arbres de décisions"
   ]
  },
  {
   "cell_type": "code",
   "execution_count": 21,
   "id": "curious-dover",
   "metadata": {},
   "outputs": [],
   "source": [
    "from sklearn.ensemble  import RandomForestClassifier"
   ]
  },
  {
   "cell_type": "markdown",
   "id": "novel-helmet",
   "metadata": {},
   "source": [
    "## K Neighbors Classifier\n",
    "\n",
    "Définition : C'est un algorithmes de classification qui calcule les distances de voisin en voisins\n",
    "\n",
    "Utilisation : Prends en entrée -DataFrame (D) -Fonction de distance (d)  -Un nombre entier de voisins (K) "
   ]
  },
  {
   "cell_type": "code",
   "execution_count": 22,
   "id": "muslim-oklahoma",
   "metadata": {},
   "outputs": [],
   "source": [
    "from sklearn.neighbors import KNeighborsClassifier"
   ]
  },
  {
   "cell_type": "markdown",
   "id": "outer-farmer",
   "metadata": {},
   "source": [
    "## Grid Search CV\n",
    "\n",
    "Optimise les HypersParamètres d'un modéle de données"
   ]
  },
  {
   "cell_type": "code",
   "execution_count": 23,
   "id": "approved-active",
   "metadata": {},
   "outputs": [],
   "source": [
    "from sklearn.model_selection import GridSearchCV"
   ]
  },
  {
   "cell_type": "markdown",
   "id": "reverse-wichita",
   "metadata": {},
   "source": [
    "### pandas\n",
    "\n",
    "Permet d'analyser les données"
   ]
  },
  {
   "cell_type": "code",
   "execution_count": 24,
   "id": "designing-ivory",
   "metadata": {},
   "outputs": [],
   "source": [
    "import pandas as pd"
   ]
  },
  {
   "cell_type": "markdown",
   "id": "enhanced-young",
   "metadata": {},
   "source": [
    "### get_param.keys()\n",
    "\n",
    "C'est une fonction qui récupere les paramétres disponibles aux modèles "
   ]
  },
  {
   "cell_type": "code",
   "execution_count": 25,
   "id": "sweet-criminal",
   "metadata": {},
   "outputs": [
    {
     "data": {
      "text/plain": [
       "dict_keys(['C', 'break_ties', 'cache_size', 'class_weight', 'coef0', 'decision_function_shape', 'degree', 'gamma', 'kernel', 'max_iter', 'probability', 'random_state', 'shrinking', 'tol', 'verbose'])"
      ]
     },
     "execution_count": 25,
     "metadata": {},
     "output_type": "execute_result"
    }
   ],
   "source": [
    "svm.SVC(gamma='auto').get_params().keys()\n",
    "# RandomForestClassifier().get_params().keys()\n",
    "# KNeighborsClassifier().get_params().keys()"
   ]
  },
  {
   "cell_type": "markdown",
   "id": "premium-shirt",
   "metadata": {},
   "source": [
    "### Load iris dataset \n",
    "\n",
    "Import du dataset via la librairies scikit learn"
   ]
  },
  {
   "cell_type": "code",
   "execution_count": 51,
   "id": "flying-locator",
   "metadata": {},
   "outputs": [],
   "source": [
    "iris = datasets.load_iris()"
   ]
  },
  {
   "cell_type": "markdown",
   "id": "operating-contract",
   "metadata": {},
   "source": [
    "### Content dataset \n",
    "\n",
    "    - iris.data dans une variable X qui correspond à des 150 tableau de 4 columns \n",
    "    ['longueur du sépale', 'largeur du sépale', 'longeur de la pétale', 'largeur de la pétale'] \n",
    "                   \n",
    "    - iris.target dans une variable Y qui correspond à un tableau de 3 valeurs 0, 1, 2 *\n",
    "    correspondants aux differents plantes ['setosa', 'versicolor', 'virginica']"
   ]
  },
  {
   "cell_type": "code",
   "execution_count": 52,
   "id": "educational-authorization",
   "metadata": {},
   "outputs": [],
   "source": [
    "X = iris.data\n",
    "y = iris.target\n",
    "# print(y)\n",
    "# print(X)"
   ]
  },
  {
   "cell_type": "markdown",
   "id": "bearing-announcement",
   "metadata": {},
   "source": [
    "## Création d'un ensemble \n",
    "\n",
    "Contenant les modéles testée et leurs paramétres"
   ]
  },
  {
   "cell_type": "code",
   "execution_count": 28,
   "id": "blank-election",
   "metadata": {},
   "outputs": [],
   "source": [
    "models_ml_params = {\n",
    "    \n",
    "    'svm': {\n",
    "        \n",
    "        'model': svm.SVC(gamma='auto'),\n",
    "        'params' : {\n",
    "            'C': [1, 10, 20],\n",
    "            'kernel': ['rbf', 'linear']\n",
    "        }  \n",
    "    },\n",
    "    \n",
    "    'random_forest': {\n",
    "        'model': RandomForestClassifier(),\n",
    "        'params' : {\n",
    "            'n_estimators': [1, 5, 10]\n",
    "        }\n",
    "    },\n",
    "    \n",
    "    'KNeighbors' : {\n",
    "        'model': KNeighborsClassifier(),\n",
    "        'params': {\n",
    "            'n_neighbors': [1, 5, 11],\n",
    "            'p': [1, 2, 3],\n",
    "            'weights': ['uniform', 'distance']\n",
    "        }\n",
    "    }\n",
    "}"
   ]
  },
  {
   "cell_type": "markdown",
   "id": "valuable-matthew",
   "metadata": {},
   "source": [
    "## Fonction de teste des modèles et du datasets\n",
    "\n",
    "### paramètre de la fonction : \n",
    "\n",
    "    - models_ml_params   : dictionnaire des modèles à testé et des paramètres des modèles \n",
    "    - X                  : colonne du dataset voir 2 cellules plus haut pour plus d'info \n",
    "    - y                  : differentes plantes du dataset voir 2 cellules plus haut pour plus d'info \n",
    "\n",
    "### GridSearchCV fonction d'optimisation des paramètres \n",
    "    \n",
    "    - mp['model']        : correspond à la fonction du modèles essayée \n",
    "    - mp['params']       : correpond aux paramètres du modèles essayé\n",
    "    - cv                 : correspond à la fonction de cross validation  \n",
    "    - return_train_score : correponds à enlever les scores d'entraînement\n",
    "\n",
    "Retourne les meilleurs scores et les meilleurs paramètre     "
   ]
  },
  {
   "cell_type": "code",
   "execution_count": 29,
   "id": "fitting-bulgaria",
   "metadata": {},
   "outputs": [],
   "source": [
    "\n",
    "def tests_models_and_params_on_iris_dataset(models_ml_params, X, y):\n",
    "    \n",
    "    scores = []\n",
    "    for model_name, mp in models_ml_params.items():\n",
    "        \n",
    "        clf = GridSearchCV(mp['model'], mp['params'], cv=5, return_train_score=False)        \n",
    "        \n",
    "        clf.fit(X, y)\n",
    "        \n",
    "        scores.append({\n",
    "            'model': model_name,\n",
    "            'best_score': clf.best_score_,\n",
    "            'best_params': clf.best_params_\n",
    "        })\n",
    "        \n",
    "    return (pd.DataFrame(scores, columns=[\"model\", \"best_score\", \"best_params\"]))\n"
   ]
  },
  {
   "cell_type": "code",
   "execution_count": 30,
   "id": "otherwise-republican",
   "metadata": {},
   "outputs": [
    {
     "data": {
      "text/html": [
       "<div>\n",
       "<style scoped>\n",
       "    .dataframe tbody tr th:only-of-type {\n",
       "        vertical-align: middle;\n",
       "    }\n",
       "\n",
       "    .dataframe tbody tr th {\n",
       "        vertical-align: top;\n",
       "    }\n",
       "\n",
       "    .dataframe thead th {\n",
       "        text-align: right;\n",
       "    }\n",
       "</style>\n",
       "<table border=\"1\" class=\"dataframe\">\n",
       "  <thead>\n",
       "    <tr style=\"text-align: right;\">\n",
       "      <th></th>\n",
       "      <th>model</th>\n",
       "      <th>best_score</th>\n",
       "      <th>best_params</th>\n",
       "    </tr>\n",
       "  </thead>\n",
       "  <tbody>\n",
       "    <tr>\n",
       "      <th>0</th>\n",
       "      <td>svm</td>\n",
       "      <td>0.980000</td>\n",
       "      <td>{'C': 1, 'kernel': 'rbf'}</td>\n",
       "    </tr>\n",
       "    <tr>\n",
       "      <th>1</th>\n",
       "      <td>random_forest</td>\n",
       "      <td>0.960000</td>\n",
       "      <td>{'n_estimators': 5}</td>\n",
       "    </tr>\n",
       "    <tr>\n",
       "      <th>2</th>\n",
       "      <td>KNeighbors</td>\n",
       "      <td>0.986667</td>\n",
       "      <td>{'n_neighbors': 11, 'p': 2, 'weights': 'distan...</td>\n",
       "    </tr>\n",
       "  </tbody>\n",
       "</table>\n",
       "</div>"
      ],
      "text/plain": [
       "           model  best_score  \\\n",
       "0            svm    0.980000   \n",
       "1  random_forest    0.960000   \n",
       "2     KNeighbors    0.986667   \n",
       "\n",
       "                                         best_params  \n",
       "0                          {'C': 1, 'kernel': 'rbf'}  \n",
       "1                                {'n_estimators': 5}  \n",
       "2  {'n_neighbors': 11, 'p': 2, 'weights': 'distan...  "
      ]
     },
     "execution_count": 30,
     "metadata": {},
     "output_type": "execute_result"
    }
   ],
   "source": [
    "tests_models_and_params_on_iris_dataset(models_ml_params, iris.data, iris.target)"
   ]
  },
  {
   "cell_type": "markdown",
   "id": "auburn-bullet",
   "metadata": {},
   "source": [
    "# Utilisation de la librairies tpot \n",
    "\n",
    "Librairie basée sur les algorithmes génétiques\n",
    "    \n",
    "    - la génerations est le nombre de teste de differents hyperparam sur un modele \n",
    "    il genére au total ( generations x population_size = nombre de teste de modèles ML )\n",
    "    \n",
    "    - la population sont les différents algorithmes de modèles de MachineLearning\n",
    "    \n",
    "Tout les paramétres sont aléatoires tout comme les modèles utilisée rien n'est préciser.\n",
    "Il géneres des teste de ML garde en mémoire les meilleures résultats et ajustes les meilleurs HyperParamétres. \n",
    "\n",
    "http://epistasislab.github.io/tpot/api/"
   ]
  },
  {
   "cell_type": "code",
   "execution_count": 31,
   "id": "recovered-piece",
   "metadata": {},
   "outputs": [
    {
     "data": {
      "application/vnd.jupyter.widget-view+json": {
       "model_id": "",
       "version_major": 2,
       "version_minor": 0
      },
      "text/plain": [
       "Optimization Progress:   0%|          | 0/550 [00:00<?, ?pipeline/s]"
      ]
     },
     "metadata": {},
     "output_type": "display_data"
    },
    {
     "name": "stdout",
     "output_type": "stream",
     "text": [
      "\n",
      "Generation 1 - Current best internal CV score: 0.9800000000000001\n",
      "\n",
      "Generation 2 - Current best internal CV score: 0.9800000000000001\n",
      "\n",
      "Generation 3 - Current best internal CV score: 0.9800000000000001\n",
      "\n",
      "Generation 4 - Current best internal CV score: 0.9800000000000001\n",
      "\n",
      "Generation 5 - Current best internal CV score: 0.9800000000000001\n",
      "\n",
      "Generation 6 - Current best internal CV score: 0.9800000000000001\n",
      "\n",
      "Generation 7 - Current best internal CV score: 0.9866666666666667\n",
      "\n",
      "Generation 8 - Current best internal CV score: 0.9866666666666667\n",
      "\n",
      "Generation 9 - Current best internal CV score: 0.9866666666666667\n",
      "\n",
      "Generation 10 - Current best internal CV score: 0.9866666666666667\n",
      "\n",
      "Best pipeline: KNeighborsClassifier(input_matrix, n_neighbors=10, p=2, weights=distance)\n"
     ]
    },
    {
     "data": {
      "text/plain": [
       "TPOTClassifier(generations=10, n_jobs=-1, population_size=50, verbosity=2)"
      ]
     },
     "execution_count": 31,
     "metadata": {},
     "output_type": "execute_result"
    }
   ],
   "source": [
    "from tpot import TPOTClassifier\n",
    "\n",
    "tpot = TPOTClassifier(generations=10, population_size=50, verbosity=2, n_jobs=-1)\n",
    "\n",
    "tpot.fit(iris.data, iris.target)"
   ]
  }
 ],
 "metadata": {
  "kernelspec": {
   "display_name": "Python 3",
   "language": "python",
   "name": "python3"
  },
  "language_info": {
   "codemirror_mode": {
    "name": "ipython",
    "version": 3
   },
   "file_extension": ".py",
   "mimetype": "text/x-python",
   "name": "python",
   "nbconvert_exporter": "python",
   "pygments_lexer": "ipython3",
   "version": "3.9.7"
  }
 },
 "nbformat": 4,
 "nbformat_minor": 5
}
